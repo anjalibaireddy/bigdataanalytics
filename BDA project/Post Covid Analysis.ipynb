{
 "cells": [
  {
   "cell_type": "code",
   "execution_count": 1,
   "id": "c11ff7ea-0a10-44bf-8791-35a670cfe906",
   "metadata": {},
   "outputs": [],
   "source": [
    "# PySpark and visualization libraries\n",
    "from pyspark.sql import SparkSession\n",
    "from pyspark.sql.functions import col, count, avg, desc\n",
    "\n",
    "import pandas as pd\n",
    "import matplotlib.pyplot as plt\n",
    "import seaborn as sns\n",
    "\n",
    "# Initialize Spark session\n",
    "spark = SparkSession.builder \\\n",
    "    .appName(\"Post-COVID Conditions Analysis\") \\\n",
    "    .getOrCreate()\n"
   ]
  },
  {
   "cell_type": "code",
   "execution_count": 2,
   "id": "33cb3584-52a2-4ae5-a78f-db8aa8d1de8b",
   "metadata": {},
   "outputs": [
    {
     "name": "stdout",
     "output_type": "stream",
     "text": [
      "root\n",
      " |-- Indicator: string (nullable = true)\n",
      " |-- Group: string (nullable = true)\n",
      " |-- State: string (nullable = true)\n",
      " |-- Subgroup: string (nullable = true)\n",
      " |-- Phase: double (nullable = true)\n",
      " |-- Time Period: integer (nullable = true)\n",
      " |-- Time Period Label: string (nullable = true)\n",
      " |-- Time Period Start Date: string (nullable = true)\n",
      " |-- Time Period End Date: string (nullable = true)\n",
      " |-- Value: double (nullable = true)\n",
      " |-- LowCI: double (nullable = true)\n",
      " |-- HighCI: double (nullable = true)\n",
      " |-- Confidence Interval: string (nullable = true)\n",
      " |-- Quartile range: string (nullable = true)\n",
      " |-- Quartile number: integer (nullable = true)\n",
      " |-- Suppression Flag: integer (nullable = true)\n",
      "\n",
      "+--------------------+-----------------+-------------+-------------+-----+-----------+--------------------+----------------------+--------------------+-----+-----+------+-------------------+--------------+---------------+----------------+\n",
      "|           Indicator|            Group|        State|     Subgroup|Phase|Time Period|   Time Period Label|Time Period Start Date|Time Period End Date|Value|LowCI|HighCI|Confidence Interval|Quartile range|Quartile number|Suppression Flag|\n",
      "+--------------------+-----------------+-------------+-------------+-----+-----------+--------------------+----------------------+--------------------+-----+-----+------+-------------------+--------------+---------------+----------------+\n",
      "|Ever experienced ...|National Estimate|United States|United States|  3.5|         46|Jun 1 - Jun 13, 2022|            06/01/2022|          06/13/2022| 14.0| 13.5|  14.5|        13.5 - 14.5|          NULL|           NULL|            NULL|\n",
      "|Ever experienced ...|           By Age|United States|18 - 29 years|  3.5|         46|Jun 1 - Jun 13, 2022|            06/01/2022|          06/13/2022| 17.8| 15.9|  19.8|        15.9 - 19.8|          NULL|           NULL|            NULL|\n",
      "|Ever experienced ...|           By Age|United States|30 - 39 years|  3.5|         46|Jun 1 - Jun 13, 2022|            06/01/2022|          06/13/2022| 15.2| 14.1|  16.2|        14.1 - 16.2|          NULL|           NULL|            NULL|\n",
      "|Ever experienced ...|           By Age|United States|40 - 49 years|  3.5|         46|Jun 1 - Jun 13, 2022|            06/01/2022|          06/13/2022| 16.9| 15.7|  18.3|        15.7 - 18.3|          NULL|           NULL|            NULL|\n",
      "|Ever experienced ...|           By Age|United States|50 - 59 years|  3.5|         46|Jun 1 - Jun 13, 2022|            06/01/2022|          06/13/2022| 15.3| 14.1|  16.7|        14.1 - 16.7|          NULL|           NULL|            NULL|\n",
      "+--------------------+-----------------+-------------+-------------+-----+-----------+--------------------+----------------------+--------------------+-----+-----+------+-------------------+--------------+---------------+----------------+\n",
      "only showing top 5 rows\n"
     ]
    }
   ],
   "source": [
    "# Load CSV file into PySpark DataFrame\n",
    "df = spark.read.csv(\"Post-COVID_Conditions.csv\", header=True, inferSchema=True)\n",
    "\n",
    "# Display schema and few rows\n",
    "df.printSchema()\n",
    "df.show(5)\n"
   ]
  },
  {
   "cell_type": "code",
   "execution_count": 5,
   "id": "b9d42890-451f-47ce-b7ef-c480cdc389be",
   "metadata": {},
   "outputs": [
    {
     "name": "stdout",
     "output_type": "stream",
     "text": [
      "Total Records: 18639\n",
      "Total Columns: 16\n",
      "Columns: ['Indicator', 'Group', 'State', 'Subgroup', 'Phase', 'Time Period', 'Time Period Label', 'Time Period Start Date', 'Time Period End Date', 'Value', 'LowCI', 'HighCI', 'Confidence Interval', 'Quartile range', 'Quartile number', 'Suppression Flag']\n"
     ]
    }
   ],
   "source": [
    "# Count rows and columns\n",
    "print(\"Total Records:\", df.count())\n",
    "print(\"Total Columns:\", len(df.columns))\n",
    "\n",
    "# Display column names\n",
    "print(\"Columns:\", df.columns)\n",
    "\n",
    "\n",
    "\n"
   ]
  },
  {
   "cell_type": "code",
   "execution_count": 7,
   "id": "e843a904-90be-48dd-a9ad-486a170d2e6c",
   "metadata": {},
   "outputs": [
    {
     "name": "stdout",
     "output_type": "stream",
     "text": [
      "+--------------------+-----------------+-------------+-----+-----+------+\n",
      "|           Indicator|            Group|        State|Value|LowCI|HighCI|\n",
      "+--------------------+-----------------+-------------+-----+-----+------+\n",
      "|Ever experienced ...|National Estimate|United States| 14.0| 13.5|  14.5|\n",
      "|Ever experienced ...|           By Age|United States| 17.8| 15.9|  19.8|\n",
      "|Ever experienced ...|           By Age|United States| 15.2| 14.1|  16.2|\n",
      "|Ever experienced ...|           By Age|United States| 16.9| 15.7|  18.3|\n",
      "|Ever experienced ...|           By Age|United States| 15.3| 14.1|  16.7|\n",
      "+--------------------+-----------------+-------------+-----+-----+------+\n",
      "only showing top 5 rows\n"
     ]
    }
   ],
   "source": [
    "# Select relevant columns for analysis\n",
    "selected_df = df.select(\"Indicator\", \"Group\", \"State\", \"Value\", \"LowCI\", \"HighCI\")\n",
    "\n",
    "selected_df.show(5)\n",
    "\n"
   ]
  },
  {
   "cell_type": "code",
   "execution_count": 8,
   "id": "50fc8a5a-1969-4f3a-8308-692e1af917ee",
   "metadata": {},
   "outputs": [
    {
     "name": "stdout",
     "output_type": "stream",
     "text": [
      "+---------+-----+-----+-----+-----+------+\n",
      "|Indicator|Group|State|Value|LowCI|HighCI|\n",
      "+---------+-----+-----+-----+-----+------+\n",
      "+---------+-----+-----+-----+-----+------+\n",
      "\n"
     ]
    }
   ],
   "source": [
    "# Filter data for a specific indicator (replace with actual one from your dataset)\n",
    "indicator_name = \"Post-COVID Conditions\"\n",
    "filtered_df = selected_df.filter(col(\"Indicator\") == indicator_name)\n",
    "\n",
    "filtered_df.show(5)\n"
   ]
  },
  {
   "cell_type": "code",
   "execution_count": 9,
   "id": "a85627b2-9030-464f-869e-fe9f8114c6ea",
   "metadata": {},
   "outputs": [
    {
     "name": "stdout",
     "output_type": "stream",
     "text": [
      "+------------+------------------+\n",
      "|       State|     Average_Value|\n",
      "+------------+------------------+\n",
      "|        Utah|25.250892857142855|\n",
      "|      Hawaii|16.386627906976745|\n",
      "|   Minnesota| 22.23190476190475|\n",
      "|        Ohio| 21.47549999999999|\n",
      "|    Arkansas| 21.96530612244898|\n",
      "|      Oregon|23.112328767123298|\n",
      "|       Texas| 25.08026315789474|\n",
      "|North Dakota|19.995505617977525|\n",
      "|Pennsylvania|21.701415094339623|\n",
      "| Connecticut|22.010552763819103|\n",
      "+------------+------------------+\n",
      "only showing top 10 rows\n"
     ]
    }
   ],
   "source": [
    "# Group by 'State' and compute average Value\n",
    "state_avg = df.groupBy(\"State\").agg(avg(\"Value\").alias(\"Average_Value\"))\n",
    "\n",
    "state_avg.show(10)\n"
   ]
  },
  {
   "cell_type": "code",
   "execution_count": 10,
   "id": "2b63e0a4-d74b-43a0-b500-87eaf92e5edc",
   "metadata": {},
   "outputs": [],
   "source": [
    "state_pd = state_avg.toPandas()\n"
   ]
  },
  {
   "cell_type": "code",
   "execution_count": null,
   "id": "54fc2708-97fd-4dbd-a8d0-f67708e5db27",
   "metadata": {},
   "outputs": [],
   "source": []
  }
 ],
 "metadata": {
  "kernelspec": {
   "display_name": "Python 3 (ipykernel)",
   "language": "python",
   "name": "python3"
  },
  "language_info": {
   "codemirror_mode": {
    "name": "ipython",
    "version": 3
   },
   "file_extension": ".py",
   "mimetype": "text/x-python",
   "name": "python",
   "nbconvert_exporter": "python",
   "pygments_lexer": "ipython3",
   "version": "3.11.9"
  }
 },
 "nbformat": 4,
 "nbformat_minor": 5
}
